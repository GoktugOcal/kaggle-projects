{
 "cells": [
  {
   "cell_type": "code",
   "execution_count": 3,
   "id": "7d09e4d8",
   "metadata": {},
   "outputs": [],
   "source": [
    "import pandas as pd\n",
    "import numpy as np\n",
    "\n",
    "from sklearn.preprocessing import MinMaxScaler\n",
    "\n",
    "import matplotlib.pyplot as plt\n",
    "import seaborn as sns\n",
    "import plotly.express as px"
   ]
  },
  {
   "cell_type": "code",
   "execution_count": null,
   "id": "8d8077d6",
   "metadata": {},
   "outputs": [],
   "source": []
  },
  {
   "cell_type": "code",
   "execution_count": 4,
   "id": "9cfcf9db",
   "metadata": {},
   "outputs": [
    {
     "data": {
      "text/html": [
       "<div>\n",
       "<style scoped>\n",
       "    .dataframe tbody tr th:only-of-type {\n",
       "        vertical-align: middle;\n",
       "    }\n",
       "\n",
       "    .dataframe tbody tr th {\n",
       "        vertical-align: top;\n",
       "    }\n",
       "\n",
       "    .dataframe thead th {\n",
       "        text-align: right;\n",
       "    }\n",
       "</style>\n",
       "<table border=\"1\" class=\"dataframe\">\n",
       "  <thead>\n",
       "    <tr style=\"text-align: right;\">\n",
       "      <th></th>\n",
       "      <th>Generation</th>\n",
       "    </tr>\n",
       "  </thead>\n",
       "  <tbody>\n",
       "    <tr>\n",
       "      <th>count</th>\n",
       "      <td>25560.000000</td>\n",
       "    </tr>\n",
       "    <tr>\n",
       "      <th>mean</th>\n",
       "      <td>89.724239</td>\n",
       "    </tr>\n",
       "    <tr>\n",
       "      <th>std</th>\n",
       "      <td>126.180117</td>\n",
       "    </tr>\n",
       "    <tr>\n",
       "      <th>min</th>\n",
       "      <td>0.000000</td>\n",
       "    </tr>\n",
       "    <tr>\n",
       "      <th>25%</th>\n",
       "      <td>0.000000</td>\n",
       "    </tr>\n",
       "    <tr>\n",
       "      <th>50%</th>\n",
       "      <td>4.317082</td>\n",
       "    </tr>\n",
       "    <tr>\n",
       "      <th>75%</th>\n",
       "      <td>168.498464</td>\n",
       "    </tr>\n",
       "    <tr>\n",
       "      <th>max</th>\n",
       "      <td>456.319322</td>\n",
       "    </tr>\n",
       "  </tbody>\n",
       "</table>\n",
       "</div>"
      ],
      "text/plain": [
       "         Generation\n",
       "count  25560.000000\n",
       "mean      89.724239\n",
       "std      126.180117\n",
       "min        0.000000\n",
       "25%        0.000000\n",
       "50%        4.317082\n",
       "75%      168.498464\n",
       "max      456.319322"
      ]
     },
     "execution_count": 4,
     "metadata": {},
     "output_type": "execute_result"
    }
   ],
   "source": [
    "df = pd.read_csv(\"data/generation.csv\", delimiter=\";\").dropna()\n",
    "df[\"DateTime\"] = pd.to_datetime(df[\"DateTime\"],format=\"%d%b%Y %H:%M:%S\")\n",
    "df[\"Generation\"] = df[\"Generation\"].str.replace(\",\",\".\").astype(\"float\")\n",
    "df.describe()"
   ]
  },
  {
   "cell_type": "code",
   "execution_count": 5,
   "id": "7976e4aa",
   "metadata": {},
   "outputs": [
    {
     "data": {
      "image/png": "[encoded data removed]",
      "text/plain": [
       "<Figure size 432x288 with 1 Axes>"
      ]
     },
     "metadata": {
      "needs_background": "light"
     },
     "output_type": "display_data"
    }
   ],
   "source": [
    "plt.hist(df.Generation)\n",
    "plt.show()"
   ]
  },
  {
   "cell_type": "code",
   "execution_count": 6,
   "id": "1446eb1f",
   "metadata": {},
   "outputs": [
    {
     "data": {
      "text/html": [
       "<div>\n",
       "<style scoped>\n",
       "    .dataframe tbody tr th:only-of-type {\n",
       "        vertical-align: middle;\n",
       "    }\n",
       "\n",
       "    .dataframe tbody tr th {\n",
       "        vertical-align: top;\n",
       "    }\n",
       "\n",
       "    .dataframe thead th {\n",
       "        text-align: right;\n",
       "    }\n",
       "</style>\n",
       "<table border=\"1\" class=\"dataframe\">\n",
       "  <thead>\n",
       "    <tr style=\"text-align: right;\">\n",
       "      <th></th>\n",
       "      <th>AirTemperature</th>\n",
       "      <th>ComfortTemperature</th>\n",
       "      <th>RelativeHumidity</th>\n",
       "      <th>WindSpeed</th>\n",
       "      <th>WindDirection</th>\n",
       "      <th>WWCode</th>\n",
       "      <th>EffectiveCloudCover</th>\n",
       "    </tr>\n",
       "  </thead>\n",
       "  <tbody>\n",
       "    <tr>\n",
       "      <th>count</th>\n",
       "      <td>20050.000000</td>\n",
       "      <td>20050.000000</td>\n",
       "      <td>20050.000000</td>\n",
       "      <td>20050.000000</td>\n",
       "      <td>20050.000000</td>\n",
       "      <td>20050.000000</td>\n",
       "      <td>20050.000000</td>\n",
       "    </tr>\n",
       "    <tr>\n",
       "      <th>mean</th>\n",
       "      <td>13.090564</td>\n",
       "      <td>12.602155</td>\n",
       "      <td>56.151481</td>\n",
       "      <td>1.560903</td>\n",
       "      <td>82.177756</td>\n",
       "      <td>13.095711</td>\n",
       "      <td>2.799646</td>\n",
       "    </tr>\n",
       "    <tr>\n",
       "      <th>std</th>\n",
       "      <td>9.477302</td>\n",
       "      <td>9.819157</td>\n",
       "      <td>22.886439</td>\n",
       "      <td>1.301564</td>\n",
       "      <td>98.386111</td>\n",
       "      <td>24.471306</td>\n",
       "      <td>2.579721</td>\n",
       "    </tr>\n",
       "    <tr>\n",
       "      <th>min</th>\n",
       "      <td>-13.100000</td>\n",
       "      <td>-19.300000</td>\n",
       "      <td>1.600000</td>\n",
       "      <td>0.000000</td>\n",
       "      <td>0.000000</td>\n",
       "      <td>0.000000</td>\n",
       "      <td>0.000000</td>\n",
       "    </tr>\n",
       "    <tr>\n",
       "      <th>25%</th>\n",
       "      <td>5.300000</td>\n",
       "      <td>4.500000</td>\n",
       "      <td>37.900000</td>\n",
       "      <td>0.500000</td>\n",
       "      <td>20.000000</td>\n",
       "      <td>0.000000</td>\n",
       "      <td>0.000000</td>\n",
       "    </tr>\n",
       "    <tr>\n",
       "      <th>50%</th>\n",
       "      <td>12.300000</td>\n",
       "      <td>11.900000</td>\n",
       "      <td>57.300000</td>\n",
       "      <td>1.100000</td>\n",
       "      <td>30.000000</td>\n",
       "      <td>3.000000</td>\n",
       "      <td>2.650000</td>\n",
       "    </tr>\n",
       "    <tr>\n",
       "      <th>75%</th>\n",
       "      <td>20.300000</td>\n",
       "      <td>20.500000</td>\n",
       "      <td>74.900000</td>\n",
       "      <td>2.100000</td>\n",
       "      <td>150.000000</td>\n",
       "      <td>10.000000</td>\n",
       "      <td>5.200000</td>\n",
       "    </tr>\n",
       "    <tr>\n",
       "      <th>max</th>\n",
       "      <td>39.000000</td>\n",
       "      <td>37.200000</td>\n",
       "      <td>100.000000</td>\n",
       "      <td>12.900000</td>\n",
       "      <td>360.000000</td>\n",
       "      <td>99.000000</td>\n",
       "      <td>8.000000</td>\n",
       "    </tr>\n",
       "  </tbody>\n",
       "</table>\n",
       "</div>"
      ],
      "text/plain": [
       "       AirTemperature  ComfortTemperature  RelativeHumidity     WindSpeed  \\\n",
       "count    20050.000000        20050.000000      20050.000000  20050.000000   \n",
       "mean        13.090564           12.602155         56.151481      1.560903   \n",
       "std          9.477302            9.819157         22.886439      1.301564   \n",
       "min        -13.100000          -19.300000          1.600000      0.000000   \n",
       "25%          5.300000            4.500000         37.900000      0.500000   \n",
       "50%         12.300000           11.900000         57.300000      1.100000   \n",
       "75%         20.300000           20.500000         74.900000      2.100000   \n",
       "max         39.000000           37.200000        100.000000     12.900000   \n",
       "\n",
       "       WindDirection        WWCode  EffectiveCloudCover  \n",
       "count   20050.000000  20050.000000         20050.000000  \n",
       "mean       82.177756     13.095711             2.799646  \n",
       "std        98.386111     24.471306             2.579721  \n",
       "min         0.000000      0.000000             0.000000  \n",
       "25%        20.000000      0.000000             0.000000  \n",
       "50%        30.000000      3.000000             2.650000  \n",
       "75%       150.000000     10.000000             5.200000  \n",
       "max       360.000000     99.000000             8.000000  "
      ]
     },
     "execution_count": 6,
     "metadata": {},
     "output_type": "execute_result"
    }
   ],
   "source": [
    "dfTemp = pd.read_csv(\"data/temperature.csv\", delimiter=\";\").dropna()\n",
    "dfTemp[\"DateTime\"] = pd.to_datetime(dfTemp[\"DateTime\"],format=\"%d%b%Y %H:%M:%S\")\n",
    "dfTemp[\"AirTemperature\"] = dfTemp[\"AirTemperature\"].str.replace(\",\",\".\").astype(\"float\")\n",
    "dfTemp[\"ComfortTemperature\"] = dfTemp[\"ComfortTemperature\"].str.replace(\",\",\".\").astype(\"float\")\n",
    "dfTemp[\"RelativeHumidity\"] = dfTemp[\"RelativeHumidity\"].str.replace(\",\",\".\").astype(\"float\")\n",
    "dfTemp[\"WindSpeed\"] = dfTemp[\"WindSpeed\"].str.replace(\",\",\".\").astype(\"float\")\n",
    "dfTemp[\"EffectiveCloudCover\"] = dfTemp[\"EffectiveCloudCover\"].str.replace(\",\",\".\").astype(\"float\")\n",
    "dfTemp.describe()"
   ]
  },
  {
   "cell_type": "code",
   "execution_count": 7,
   "id": "9f898b99",
   "metadata": {},
   "outputs": [],
   "source": [
    "dfBig = df.set_index(\"DateTime\").join(dfTemp.set_index(\"DateTime\"))"
   ]
  },
  {
   "cell_type": "code",
   "execution_count": 8,
   "id": "023a239e",
   "metadata": {},
   "outputs": [
    {
     "data": {
      "image/png": "[encoded data removed]",
      "text/plain": [
       "<Figure size 432x288 with 2 Axes>"
      ]
     },
     "metadata": {
      "needs_background": "light"
     },
     "output_type": "display_data"
    }
   ],
   "source": [
    "corr = dfBig.corr()\n",
    "sns.heatmap(corr, \n",
    "        xticklabels=corr.columns,\n",
    "        yticklabels=corr.columns)\n",
    "plt.show()"
   ]
  },
  {
   "cell_type": "code",
   "execution_count": 9,
   "id": "2d22590b",
   "metadata": {},
   "outputs": [],
   "source": [
    "dfWWCode = dfBig.groupby(\"WWCode\").sum()[\"Generation\"]"
   ]
  },
  {
   "cell_type": "code",
   "execution_count": 10,
   "id": "18d6e36d",
   "metadata": {},
   "outputs": [
    {
     "data": {
      "text/plain": [
       "<AxesSubplot:xlabel='WWCode'>"
      ]
     },
     "execution_count": 10,
     "metadata": {},
     "output_type": "execute_result"
    },
    {
     "data": {
      "image/png": "[encoded data removed]",
      "text/plain": [
       "<Figure size 432x288 with 1 Axes>"
      ]
     },
     "metadata": {
      "needs_background": "light"
     },
     "output_type": "display_data"
    }
   ],
   "source": [
    "dfWWCode.plot.bar()"
   ]
  },
  {
   "cell_type": "code",
   "execution_count": 11,
   "id": "2be4a966",
   "metadata": {},
   "outputs": [
    {
     "name": "stderr",
     "output_type": "stream",
     "text": [
      "/Users/goktug/miniforge3/envs/m1ds/lib/python3.9/site-packages/statsmodels/graphics/tsaplots.py:348: FutureWarning: The default method 'yw' can produce PACF values outside of the [-1,1] interval. After 0.13, the default will change tounadjusted Yule-Walker ('ywm'). You can use this method now by setting method='ywm'.\n",
      "  warnings.warn(\n"
     ]
    },
    {
     "data": {
      "image/png": "[encoded data removed]",
      "text/plain": [
       "<Figure size 432x288 with 1 Axes>"
      ]
     },
     "metadata": {
      "needs_background": "light"
     },
     "output_type": "display_data"
    }
   ],
   "source": [
    "from statsmodels.graphics.tsaplots import plot_acf, plot_pacf\n",
    "\n",
    "plot_pacf(dfWWCode)\n",
    "plt.show()"
   ]
  },
  {
   "cell_type": "code",
   "execution_count": 12,
   "id": "f84bd5d6",
   "metadata": {},
   "outputs": [
    {
     "data": {
      "text/html": [
       "<div>\n",
       "<style scoped>\n",
       "    .dataframe tbody tr th:only-of-type {\n",
       "        vertical-align: middle;\n",
       "    }\n",
       "\n",
       "    .dataframe tbody tr th {\n",
       "        vertical-align: top;\n",
       "    }\n",
       "\n",
       "    .dataframe thead th {\n",
       "        text-align: right;\n",
       "    }\n",
       "</style>\n",
       "<table border=\"1\" class=\"dataframe\">\n",
       "  <thead>\n",
       "    <tr style=\"text-align: right;\">\n",
       "      <th></th>\n",
       "      <th>Generation</th>\n",
       "      <th>AirTemperature</th>\n",
       "      <th>ComfortTemperature</th>\n",
       "      <th>RelativeHumidity</th>\n",
       "      <th>WindSpeed</th>\n",
       "      <th>WindDirection</th>\n",
       "      <th>WWCode</th>\n",
       "      <th>EffectiveCloudCover</th>\n",
       "    </tr>\n",
       "    <tr>\n",
       "      <th>DateTime</th>\n",
       "      <th></th>\n",
       "      <th></th>\n",
       "      <th></th>\n",
       "      <th></th>\n",
       "      <th></th>\n",
       "      <th></th>\n",
       "      <th></th>\n",
       "      <th></th>\n",
       "    </tr>\n",
       "  </thead>\n",
       "  <tbody>\n",
       "    <tr>\n",
       "      <th>2019-01-01 00:00:00</th>\n",
       "      <td>0.000000</td>\n",
       "      <td>-1.7</td>\n",
       "      <td>-6.1</td>\n",
       "      <td>75.3</td>\n",
       "      <td>3.6</td>\n",
       "      <td>60.0</td>\n",
       "      <td>10.0</td>\n",
       "      <td>6.3</td>\n",
       "    </tr>\n",
       "    <tr>\n",
       "      <th>2019-01-01 01:00:00</th>\n",
       "      <td>0.000000</td>\n",
       "      <td>-1.8</td>\n",
       "      <td>-5.3</td>\n",
       "      <td>75.3</td>\n",
       "      <td>2.6</td>\n",
       "      <td>70.0</td>\n",
       "      <td>10.0</td>\n",
       "      <td>4.5</td>\n",
       "    </tr>\n",
       "    <tr>\n",
       "      <th>2019-01-01 02:00:00</th>\n",
       "      <td>0.000008</td>\n",
       "      <td>-2.0</td>\n",
       "      <td>-6.0</td>\n",
       "      <td>74.7</td>\n",
       "      <td>3.1</td>\n",
       "      <td>80.0</td>\n",
       "      <td>10.0</td>\n",
       "      <td>5.5</td>\n",
       "    </tr>\n",
       "    <tr>\n",
       "      <th>2019-01-01 03:00:00</th>\n",
       "      <td>0.000000</td>\n",
       "      <td>-1.9</td>\n",
       "      <td>-5.9</td>\n",
       "      <td>76.4</td>\n",
       "      <td>3.1</td>\n",
       "      <td>60.0</td>\n",
       "      <td>10.0</td>\n",
       "      <td>7.6</td>\n",
       "    </tr>\n",
       "    <tr>\n",
       "      <th>2019-01-01 04:00:00</th>\n",
       "      <td>0.000008</td>\n",
       "      <td>-2.0</td>\n",
       "      <td>-7.1</td>\n",
       "      <td>76.4</td>\n",
       "      <td>4.6</td>\n",
       "      <td>60.0</td>\n",
       "      <td>10.0</td>\n",
       "      <td>6.5</td>\n",
       "    </tr>\n",
       "    <tr>\n",
       "      <th>...</th>\n",
       "      <td>...</td>\n",
       "      <td>...</td>\n",
       "      <td>...</td>\n",
       "      <td>...</td>\n",
       "      <td>...</td>\n",
       "      <td>...</td>\n",
       "      <td>...</td>\n",
       "      <td>...</td>\n",
       "    </tr>\n",
       "    <tr>\n",
       "      <th>2021-11-30 19:00:00</th>\n",
       "      <td>0.000000</td>\n",
       "      <td>7.1</td>\n",
       "      <td>5.2</td>\n",
       "      <td>76.8</td>\n",
       "      <td>3.1</td>\n",
       "      <td>220.0</td>\n",
       "      <td>25.0</td>\n",
       "      <td>6.0</td>\n",
       "    </tr>\n",
       "    <tr>\n",
       "      <th>2021-11-30 20:00:00</th>\n",
       "      <td>0.000000</td>\n",
       "      <td>7.1</td>\n",
       "      <td>5.7</td>\n",
       "      <td>75.2</td>\n",
       "      <td>2.1</td>\n",
       "      <td>250.0</td>\n",
       "      <td>80.0</td>\n",
       "      <td>6.0</td>\n",
       "    </tr>\n",
       "    <tr>\n",
       "      <th>2021-11-30 21:00:00</th>\n",
       "      <td>0.000000</td>\n",
       "      <td>5.8</td>\n",
       "      <td>3.1</td>\n",
       "      <td>83.4</td>\n",
       "      <td>4.1</td>\n",
       "      <td>280.0</td>\n",
       "      <td>80.0</td>\n",
       "      <td>7.0</td>\n",
       "    </tr>\n",
       "    <tr>\n",
       "      <th>2021-11-30 22:00:00</th>\n",
       "      <td>0.000000</td>\n",
       "      <td>5.0</td>\n",
       "      <td>3.3</td>\n",
       "      <td>81.0</td>\n",
       "      <td>2.1</td>\n",
       "      <td>240.0</td>\n",
       "      <td>60.0</td>\n",
       "      <td>6.0</td>\n",
       "    </tr>\n",
       "    <tr>\n",
       "      <th>2021-11-30 23:00:00</th>\n",
       "      <td>0.000000</td>\n",
       "      <td>5.0</td>\n",
       "      <td>4.8</td>\n",
       "      <td>85.7</td>\n",
       "      <td>1.0</td>\n",
       "      <td>210.0</td>\n",
       "      <td>60.0</td>\n",
       "      <td>6.0</td>\n",
       "    </tr>\n",
       "  </tbody>\n",
       "</table>\n",
       "<p>25560 rows × 8 columns</p>\n",
       "</div>"
      ],
      "text/plain": [
       "                     Generation  AirTemperature  ComfortTemperature  \\\n",
       "DateTime                                                              \n",
       "2019-01-01 00:00:00    0.000000            -1.7                -6.1   \n",
       "2019-01-01 01:00:00    0.000000            -1.8                -5.3   \n",
       "2019-01-01 02:00:00    0.000008            -2.0                -6.0   \n",
       "2019-01-01 03:00:00    0.000000            -1.9                -5.9   \n",
       "2019-01-01 04:00:00    0.000008            -2.0                -7.1   \n",
       "...                         ...             ...                 ...   \n",
       "2021-11-30 19:00:00    0.000000             7.1                 5.2   \n",
       "2021-11-30 20:00:00    0.000000             7.1                 5.7   \n",
       "2021-11-30 21:00:00    0.000000             5.8                 3.1   \n",
       "2021-11-30 22:00:00    0.000000             5.0                 3.3   \n",
       "2021-11-30 23:00:00    0.000000             5.0                 4.8   \n",
       "\n",
       "                     RelativeHumidity  WindSpeed  WindDirection  WWCode  \\\n",
       "DateTime                                                                  \n",
       "2019-01-01 00:00:00              75.3        3.6           60.0    10.0   \n",
       "2019-01-01 01:00:00              75.3        2.6           70.0    10.0   \n",
       "2019-01-01 02:00:00              74.7        3.1           80.0    10.0   \n",
       "2019-01-01 03:00:00              76.4        3.1           60.0    10.0   \n",
       "2019-01-01 04:00:00              76.4        4.6           60.0    10.0   \n",
       "...                               ...        ...            ...     ...   \n",
       "2021-11-30 19:00:00              76.8        3.1          220.0    25.0   \n",
       "2021-11-30 20:00:00              75.2        2.1          250.0    80.0   \n",
       "2021-11-30 21:00:00              83.4        4.1          280.0    80.0   \n",
       "2021-11-30 22:00:00              81.0        2.1          240.0    60.0   \n",
       "2021-11-30 23:00:00              85.7        1.0          210.0    60.0   \n",
       "\n",
       "                     EffectiveCloudCover  \n",
       "DateTime                                  \n",
       "2019-01-01 00:00:00                  6.3  \n",
       "2019-01-01 01:00:00                  4.5  \n",
       "2019-01-01 02:00:00                  5.5  \n",
       "2019-01-01 03:00:00                  7.6  \n",
       "2019-01-01 04:00:00                  6.5  \n",
       "...                                  ...  \n",
       "2021-11-30 19:00:00                  6.0  \n",
       "2021-11-30 20:00:00                  6.0  \n",
       "2021-11-30 21:00:00                  7.0  \n",
       "2021-11-30 22:00:00                  6.0  \n",
       "2021-11-30 23:00:00                  6.0  \n",
       "\n",
       "[25560 rows x 8 columns]"
      ]
     },
     "execution_count": 12,
     "metadata": {},
     "output_type": "execute_result"
    }
   ],
   "source": [
    "dfBig"
   ]
  },
  {
   "cell_type": "code",
   "execution_count": 13,
   "id": "35477c93",
   "metadata": {},
   "outputs": [],
   "source": [
    "def series_to_supervised(data, n_in=7*24, n_out=24, dropnan=False):\n",
    "    n_vars = 1 if type(data) is list else data.shape[1]\n",
    "    df = pd.DataFrame(data)\n",
    "    cols, names = list(), list()\n",
    "    \n",
    "    # input sequence (t-n, ... t-1)\n",
    "    for i in range(n_in, 0, -1):\n",
    "        cols.append(df.shift(i))\n",
    "        names += [('var%d(t-%d)' % (j+1, i)) for j in range(n_vars)]\n",
    "    \n",
    "    # forecast sequence (t, t+1, ... t+n)\n",
    "    for i in range(0, n_out):\n",
    "        cols.append(df.shift(-i))\n",
    "        if i == 0:\n",
    "            names += [('var%d(t)' % (j+1)) for j in range(n_vars)]\n",
    "        else:\n",
    "            names += [('var%d(t+%d)' % (j+1, i)) for j in range(n_vars)]\n",
    "    # put it all together\n",
    "    agg = pd.concat(cols, axis=1)\n",
    "    agg.columns = names\n",
    "    # drop rows with NaN values\n",
    "    if dropnan:\n",
    "        agg.dropna(inplace=True)\n",
    "    return agg\n",
    "\n",
    "\n",
    "def series_to_supervised(data, output_col, n_in=24, n_out=24, dropnan=False):\n",
    "    n_vars = 1 if type(data) is list else data.shape[1]\n",
    "    df = pd.DataFrame(data)\n",
    "    cols, names = list(), list()\n",
    "    \n",
    "    # input sequence (t-n, ... t-1)\n",
    "    for i in range(n_in, 0, -1):\n",
    "        cols.append(df.shift(i))\n",
    "        names += [('var%d(t-%d)' % (j+1, i)) for j in range(n_vars)]\n",
    "    \n",
    "    # forecast sequence (t, t+1, ... t+n)\n",
    "    for i in range(0, n_out):\n",
    "        cols.append(df[output_col].to_frame().shift(-i))\n",
    "        if i == 0:\n",
    "            names += [('output%d(t)' % (j+1)) for j in range(1)]\n",
    "        else:\n",
    "            names += [('output%d(t+%d)' % (j+1, i)) for j in range(1)]\n",
    "    # put it all together\n",
    "    agg = pd.concat(cols, axis=1)\n",
    "    agg.columns = names\n",
    "    # drop rows with NaN values\n",
    "    if dropnan:\n",
    "        agg.dropna(inplace=True)\n",
    "    return agg\n",
    "    \n",
    "supervised_df = series_to_supervised(dfBig,\"Generation\")\n",
    "values = supervised_df.values\n",
    "values = values.astype('float32')\n",
    "scaler = MinMaxScaler(feature_range=(0, 1))\n",
    "scaled = scaler.fit_transform(values)\n",
    "for i in range(len(supervised_df)):\n",
    "    supervised_df.iloc[i] = scaled[i]"
   ]
  },
  {
   "cell_type": "code",
   "execution_count": 14,
   "id": "de7b4efd",
   "metadata": {},
   "outputs": [
    {
     "name": "stdout",
     "output_type": "stream",
     "text": [
      "(12397, 1, 192) (12397, 0) (5314, 1, 192) (5314, 0)\n"
     ]
    }
   ],
   "source": [
    "values = supervised_df.dropna().values\n",
    "n_train_hours = int(len(values) * 0.7)\n",
    "train = values[:n_train_hours, :]\n",
    "test = values[n_train_hours:, :]\n",
    "# split into input and outputs\n",
    "train_X, train_y = train[:, :-24], train[:, -24:0]\n",
    "test_X, test_y = test[:, :-24], test[:, -24:0]\n",
    "# reshape input to be 3D [samples, timesteps, features]\n",
    "train_X = train_X.reshape((train_X.shape[0], 1, train_X.shape[1]))\n",
    "test_X = test_X.reshape((test_X.shape[0], 1, test_X.shape[1]))\n",
    "\n",
    "print(train_X.shape, train_y.shape, test_X.shape, test_y.shape)"
   ]
  },
  {
   "cell_type": "code",
   "execution_count": null,
   "id": "ce63e34e",
   "metadata": {},
   "outputs": [
    {
     "name": "stderr",
     "output_type": "stream",
     "text": [
      "2022-02-17 11:18:05.833934: I tensorflow/compiler/mlir/mlir_graph_optimization_pass.cc:185] None of the MLIR Optimization Passes are enabled (registered 2)\n",
      "2022-02-17 11:18:05.837015: W tensorflow/core/platform/profile_utils/cpu_utils.cc:128] Failed to get CPU frequency: 0 Hz\n"
     ]
    },
    {
     "name": "stdout",
     "output_type": "stream",
     "text": [
      "Epoch 1/50\n"
     ]
    }
   ],
   "source": [
    "from tensorflow.keras.models import Sequential\n",
    "from tensorflow.keras.layers import Dense\n",
    "from tensorflow.keras.layers import LSTM\n",
    "\n",
    "# design network\n",
    "model = Sequential()\n",
    "model.add(LSTM(50, input_shape=(train_X.shape[1], train_X.shape[2])))\n",
    "model.add(Dense(1))\n",
    "model.compile(loss='mae', optimizer='adam')\n",
    "# fit network\n",
    "history = model.fit(train_X, train_y, epochs=50, batch_size=72, validation_data=(test_X, test_y), verbose=2, shuffle=False)\n",
    "# plot history\n",
    "pyplot.plot(history.history['loss'], label='train')\n",
    "pyplot.plot(history.history['val_loss'], label='test')\n",
    "pyplot.legend()\n",
    "pyplot.show()"
   ]
  },
  {
   "cell_type": "code",
   "execution_count": null,
   "id": "61aa377f",
   "metadata": {},
   "outputs": [],
   "source": []
  }
 ],
 "metadata": {
  "kernelspec": {
   "display_name": "Python 3.9.7 64-bit ('m1ds': conda)",
   "language": "python",
   "name": "python397jvsc74a57bd06d62b8f76d866b77c2bf7e4bd0e7362b42362cf845f8dcac4bafe140a59b3033"
  },
  "language_info": {
   "codemirror_mode": {
    "name": "ipython",
    "version": 3
   },
   "file_extension": ".py",
   "mimetype": "text/x-python",
   "name": "python",
   "nbconvert_exporter": "python",
   "pygments_lexer": "ipython3",
   "version": "3.9.7"
  }
 },
 "nbformat": 4,
 "nbformat_minor": 5
}
